{
 "cells": [
  {
   "cell_type": "markdown",
   "metadata": {
    "toc": true
   },
   "source": [
    "<h1>Table of Contents<span class=\"tocSkip\"></span></h1>\n",
    "<div class=\"toc\"><ul class=\"toc-item\"><li><span><a href=\"#-Домашняя-работа-№1\" data-toc-modified-id=\"-Домашняя-работа-№1-1\"><span class=\"toc-item-num\">1&nbsp;&nbsp;</span><center> Домашняя работа №1</center></a></span><ul class=\"toc-item\"><li><ul class=\"toc-item\"><li><span><a href=\"#Задание-1.\" data-toc-modified-id=\"Задание-1.-1.0.1\"><span class=\"toc-item-num\">1.0.1&nbsp;&nbsp;</span>Задание 1.</a></span><ul class=\"toc-item\"><li><span><a href=\"#Выберите-верный-пункт:\" data-toc-modified-id=\"Выберите-верный-пункт:-1.0.1.1\"><span class=\"toc-item-num\">1.0.1.1&nbsp;&nbsp;</span>Выберите верный пункт:</a></span></li></ul></li><li><span><a href=\"#Задание-2.\" data-toc-modified-id=\"Задание-2.-1.0.2\"><span class=\"toc-item-num\">1.0.2&nbsp;&nbsp;</span>Задание 2.</a></span><ul class=\"toc-item\"><li><span><a href=\"#Пояснения:\" data-toc-modified-id=\"Пояснения:-1.0.2.1\"><span class=\"toc-item-num\">1.0.2.1&nbsp;&nbsp;</span>Пояснения:</a></span></li></ul></li><li><span><a href=\"#Информация-для-последующих-заданий\" data-toc-modified-id=\"Информация-для-последующих-заданий-1.0.3\"><span class=\"toc-item-num\">1.0.3&nbsp;&nbsp;</span>Информация для последующих заданий</a></span></li></ul></li><li><span><a href=\"#Описание-данных\" data-toc-modified-id=\"Описание-данных-1.1\"><span class=\"toc-item-num\">1.1&nbsp;&nbsp;</span>Описание данных</a></span><ul class=\"toc-item\"><li><span><a href=\"#Таблица-transactions.csv\" data-toc-modified-id=\"Таблица-transactions.csv-1.1.1\"><span class=\"toc-item-num\">1.1.1&nbsp;&nbsp;</span>Таблица <code>transactions.csv</code></a></span></li><li><span><a href=\"#Таблица-gender_train.csv\" data-toc-modified-id=\"Таблица-gender_train.csv-1.1.2\"><span class=\"toc-item-num\">1.1.2&nbsp;&nbsp;</span>Таблица <code>gender_train.csv</code></a></span></li><li><span><a href=\"#Таблица-tr_mcc_codes.csv\" data-toc-modified-id=\"Таблица-tr_mcc_codes.csv-1.1.3\"><span class=\"toc-item-num\">1.1.3&nbsp;&nbsp;</span>Таблица <code>tr_mcc_codes.csv</code></a></span></li><li><span><a href=\"#Таблица-tr_types.csv\" data-toc-modified-id=\"Таблица-tr_types.csv-1.1.4\"><span class=\"toc-item-num\">1.1.4&nbsp;&nbsp;</span>Таблица <code>tr_types.csv</code></a></span></li><li><span><a href=\"#Задание-3.\" data-toc-modified-id=\"Задание-3.-1.1.5\"><span class=\"toc-item-num\">1.1.5&nbsp;&nbsp;</span>Задание 3.</a></span><ul class=\"toc-item\"><li><span><a href=\"#Выберите-все-верные-пункты:\" data-toc-modified-id=\"Выберите-все-верные-пункты:-1.1.5.1\"><span class=\"toc-item-num\">1.1.5.1&nbsp;&nbsp;</span>Выберите все верные пункты:</a></span></li></ul></li><li><span><a href=\"#Задание-4.\" data-toc-modified-id=\"Задание-4.-1.1.6\"><span class=\"toc-item-num\">1.1.6&nbsp;&nbsp;</span>Задание 4.</a></span></li><li><span><a href=\"#Задание-5.\" data-toc-modified-id=\"Задание-5.-1.1.7\"><span class=\"toc-item-num\">1.1.7&nbsp;&nbsp;</span>Задание 5.</a></span></li><li><span><a href=\"#Задание-6.\" data-toc-modified-id=\"Задание-6.-1.1.8\"><span class=\"toc-item-num\">1.1.8&nbsp;&nbsp;</span>Задание 6.</a></span></li><li><span><a href=\"#Задание-7.\" data-toc-modified-id=\"Задание-7.-1.1.9\"><span class=\"toc-item-num\">1.1.9&nbsp;&nbsp;</span>Задание 7.</a></span></li><li><span><a href=\"#Задание-8.\" data-toc-modified-id=\"Задание-8.-1.1.10\"><span class=\"toc-item-num\">1.1.10&nbsp;&nbsp;</span>Задание 8.</a></span><ul class=\"toc-item\"><li><span><a href=\"#Task-5:\" data-toc-modified-id=\"Task-5:-1.1.10.1\"><span class=\"toc-item-num\">1.1.10.1&nbsp;&nbsp;</span>Task 5:</a></span></li><li><span><a href=\"#Вопросы:\" data-toc-modified-id=\"Вопросы:-1.1.10.2\"><span class=\"toc-item-num\">1.1.10.2&nbsp;&nbsp;</span>Вопросы:</a></span></li><li><span><a href=\"#Task-6:\" data-toc-modified-id=\"Task-6:-1.1.10.3\"><span class=\"toc-item-num\">1.1.10.3&nbsp;&nbsp;</span>Task 6:</a></span></li><li><span><a href=\"#Вопросы:\" data-toc-modified-id=\"Вопросы:-1.1.10.4\"><span class=\"toc-item-num\">1.1.10.4&nbsp;&nbsp;</span>Вопросы:</a></span></li></ul></li></ul></li></ul></li></ul></div>"
   ]
  },
  {
   "cell_type": "markdown",
   "metadata": {},
   "source": [
    " # <center> Домашняя работа №1"
   ]
  },
  {
   "cell_type": "code",
   "execution_count": 1,
   "metadata": {
    "ExecuteTime": {
     "end_time": "2020-04-23T10:16:05.965275Z",
     "start_time": "2020-04-23T10:16:05.312704Z"
    }
   },
   "outputs": [],
   "source": [
    "import pandas as pd\n",
    "import numpy as np"
   ]
  },
  {
   "cell_type": "markdown",
   "metadata": {},
   "source": [
    "### Задание 1. \n",
    "\n",
    "По клиенту получены зашумленные данные (объект s типа Series) по его транзакциям. \n",
    "\n",
    "Для заданного ниже объекта s проделайте следующее:\n",
    "1. Создайте новый Series, значения которого совпадают со значениями s, а индексы - целочисленные значения от 4 до 15, не включая 15.  \n",
    "2. Выберите из s только целочисленные элементы и вычислите их дисперсию (2). (\\*)\n",
    "\n",
    "\n",
    "##### Пояснения:\n",
    "- Дисперсия рассчитывается с помощью функции из библиотеки numpy: np.var( , ddof=0) или встроенной в python функции: .var(ddof=1)"
   ]
  },
  {
   "cell_type": "code",
   "execution_count": 32,
   "metadata": {
    "ExecuteTime": {
     "end_time": "2020-04-23T10:17:18.795695Z",
     "start_time": "2020-04-23T10:17:18.791449Z"
    }
   },
   "outputs": [
    {
     "name": "stdout",
     "output_type": "stream",
     "text": [
      "Новый Series:\n",
      " 4         1\n",
      "5         5\n",
      "6       3.1\n",
      "7     hello\n",
      "8        -5\n",
      "9     -1000\n",
      "10    12.78\n",
      "11    world\n",
      "12     10.1\n",
      "13        !\n",
      "14       98\n",
      "dtype: object\n",
      "\n",
      "Целочисленные элементы:\n",
      " 8         5\n",
      "14       -5\n",
      "16    -1000\n",
      "26       98\n",
      "dtype: object\n",
      "\n",
      "Дисперсия: 201563.25\n"
     ]
    }
   ],
   "source": [
    "s = pd.Series(data=['1', 5, 3.1, 'hello', -5, -1000, 12.78, 'world', 10.10, '!', 98], \n",
    "              index=range(6, 28, 2))\n",
    "\n",
    "new_s = pd.Series(s.values, index=range(4, 15))\n",
    "int_elements = s[s.apply(lambda x: isinstance(x, int))]\n",
    "variance = np.var(int_elements, ddof=0)\n",
    "\n",
    "print(\"Новый Series:\\n\", new_s)\n",
    "print(\"\\nЦелочисленные элементы:\\n\", int_elements)\n",
    "print(\"\\nДисперсия:\", variance)"
   ]
  },
  {
   "cell_type": "markdown",
   "metadata": {},
   "source": [
    "##### Задание 2. \n",
    "1. Сгенерируйте Series из 200 значений нормально распределённой СВ (np.random.normal).\n",
    "2. Возведите каждое значение серии в 3 степень, а значения индекса увеличьте в 5 раз. \n",
    "3. Ответьте на следующие вопросы: (\\*)\n",
    "    - 1) Выведите сумму элементов, строго меньших 2.5, имеющих нечётные значения индекса. \n",
    "    - 2) Выведите количество значений серии меньше нуля.\n",
    "\n",
    "#### Пояснения:\n",
    "(\\*) Не забудьте про фиксированный seed (его менять не нужно)!\n",
    " - Определенное значение seed нужно, чтобы ответы у всех выполняющих\n",
    "это задание были одинаковые и их можно было проверить (так как генерируются\n",
    "одинаковые series)."
   ]
  },
  {
   "cell_type": "code",
   "execution_count": 3,
   "metadata": {
    "ExecuteTime": {
     "end_time": "2020-04-23T10:18:35.713300Z",
     "start_time": "2020-04-23T10:18:35.710616Z"
    }
   },
   "outputs": [
    {
     "name": "stdout",
     "output_type": "stream",
     "text": [
      "Сумма элементов, строго меньших 2.5, с нечётными индексами: -48.9722276729037\n",
      "Количество значений серии меньше нуля: 99\n"
     ]
    }
   ],
   "source": [
    "np.random.seed(242)\n",
    "data_array = np.random.normal(size=200)\n",
    "\n",
    "data_cubed_array = data_array ** 3\n",
    "\n",
    "indices_array = np.arange(200) * 5\n",
    "\n",
    "sum_odd_index_array = data_cubed_array[(data_cubed_array < 2.5) & (indices_array % 2 != 0)].sum()\n",
    "\n",
    "count_less_than_zero_array = (data_cubed_array < 0).sum()\n",
    "\n",
    "print(\"Сумма элементов, строго меньших 2.5, с нечётными индексами:\", sum_odd_index_array)\n",
    "print(\"Количество значений серии меньше нуля:\", count_less_than_zero_array)\n"
   ]
  },
  {
   "cell_type": "markdown",
   "metadata": {},
   "source": [
    "### Информация для последующих заданий\n",
    "- Для всех последующих заданий будем использовать обезличенные транзакционные банковские данные. Для этого считайте в переменные tr_mcc_codes, tr_types, transactions и gender_train из одноимённых таблиц из папки data. Для таблицы transactions используйте только первые n=1000000 строк. Обратите внимание на разделители внутри каждого из файлов - они могут различаться!"
   ]
  },
  {
   "cell_type": "code",
   "execution_count": 24,
   "metadata": {
    "ExecuteTime": {
     "end_time": "2020-04-23T10:19:13.080203Z",
     "start_time": "2020-04-23T10:19:13.077711Z"
    }
   },
   "outputs": [
    {
     "name": "stdout",
     "output_type": "stream",
     "text": [
      "   mcc_code                                    mcc_description\n",
      "0       742                                Ветеринарные услуги\n",
      "1      1711  Генеральные подрядчики по вентиляции, теплосна...\n",
      "2      1731                        Подрядчики по электричеству\n",
      "3      1799  Подрядчики, специализированная торговля — нигд...\n",
      "4      2741           Разнообразные издательства/печатное дело\n",
      "   tr_type                                     tr_description\n",
      "0     3200  Плата за предоставление услуг посредством моби...\n",
      "1     3210  Плата за предоставление отчета по счету карты ...\n",
      "2     3800  Плата за обслуживание банковской карты (за пер...\n",
      "3     4000            Плата за получение наличных в Сбербанке\n",
      "4     4001  Плата за получение наличных в Сбербанке (в дру...\n",
      "   customer_id tr_datetime  mcc_code  tr_type    amount term_id\n",
      "0     39026145  0 10:23:26      4814     1030  -2245.92     NaN\n",
      "1     39026145  1 10:19:29      6011     7010  56147.89     NaN\n",
      "2     39026145  1 10:20:56      4829     2330 -56147.89     NaN\n",
      "3     39026145  1 10:39:54      5499     1010  -1392.47     NaN\n",
      "4     39026145  2 15:33:42      5499     1010   -920.83     NaN\n",
      "   customer_id  gender\n",
      "0     10928546       1\n",
      "1     69348468       1\n",
      "2     61009479       0\n",
      "3     74045822       0\n",
      "4     27979606       1\n"
     ]
    }
   ],
   "source": [
    "tr_mcc_codes = pd.read_csv(filepath_or_buffer = \"../Mavlyukaev_AI/data/tr_mcc_codes.csv\", \n",
    "                           sep=';')\n",
    "tr_types = pd.read_csv(filepath_or_buffer = \"../Mavlyukaev_AI/data/tr_types.csv\", \n",
    "                       sep=';')\n",
    "transactions = pd.read_csv(filepath_or_buffer = \"../Mavlyukaev_AI/data/transactions.csv\", \n",
    "                           sep=',', \n",
    "                           nrows=1000000)\n",
    "gender_train = pd.read_csv(filepath_or_buffer = \"../Mavlyukaev_AI/data/gender_train.csv\", \n",
    "                           sep=',')\n",
    "\n",
    "print(tr_mcc_codes.head())\n",
    "print(tr_types.head())\n",
    "print(transactions.head())\n",
    "print(gender_train.head())"
   ]
  },
  {
   "cell_type": "markdown",
   "metadata": {},
   "source": [
    "## Описание данных\n",
    "### Таблица ```transactions.csv```\n",
    "##### Описание\n",
    "Таблица содержит историю транзакций клиентов банка за один год и три месяца.\n",
    "\n",
    "##### Формат данных\n",
    "\n",
    "```\n",
    "customer_id,tr_datetime,mcc_code,tr_type,amount,term_id\n",
    "111111,15 01:40:52,1111,1000,-5224,111111\n",
    "111112,15 15:18:32,3333,2000,-100,11122233\n",
    "...\n",
    "```\n",
    "##### Описание полей\n",
    "\n",
    " - ```customer_id``` — идентификатор клиента;\n",
    " - ```tr_datetime``` — день и время совершения транзакции (дни нумеруются с начала данных);\n",
    " - ```mcc_code``` — mcc-код транзакции;\n",
    " - ```tr_type``` — тип транзакции;\n",
    " - ```amount``` — сумма транзакции в условных единицах со знаком; ```+``` — начисление средств клиенту (приходная транзакция), ```-``` — списание средств (расходная транзакция);\n",
    " - ```term_id``` — идентификатор терминала;\n",
    "\n",
    "\n",
    "### Таблица ```gender_train.csv```\n",
    "\n",
    "##### Описание\n",
    "Данная таблица содержит информацию по полу для части клиентов, для которых он известен. Для остальных клиентов пол неизвестен.\n",
    "\n",
    "##### Формат данных\n",
    "```\n",
    "customer_id,gender\n",
    "111111,0\n",
    "111112,1\n",
    "...\n",
    "```\n",
    "\n",
    "##### Описание полей\n",
    " - ```customer_id``` — идентификатор клиента;\n",
    " - ```gender``` — пол клиента;\n",
    "\n",
    "### Таблица ```tr_mcc_codes.csv```\n",
    "\n",
    "##### Описание\n",
    "Данная таблица содержит описание mcc-кодов транзакций.\n",
    "\n",
    "##### Формат данных\n",
    "```\n",
    "mcc_code;mcc_description\n",
    "1000;словесное описание mcc-кода 1000\n",
    "2000;словесное описание mcc-кода 2000\n",
    "...\n",
    "```\n",
    "\n",
    "##### Описание полей\n",
    " - ```mcc_code``` – mcc-код транзакции;\n",
    " - ```mcc_description``` — описание mcc-кода транзакции.\n",
    "\n",
    "### Таблица ```tr_types.csv```\n",
    "\n",
    "##### Описание\n",
    "Данная таблица содержит описание типов транзакций.\n",
    "\n",
    "##### Формат данных\n",
    "```\n",
    "tr_type;tr_description\n",
    "1000;словесное описание типа транзакции 1000\n",
    "2000;словесное описание типа транзакции 2000\n",
    "...\n",
    "```\n",
    "\n",
    "##### Описание полей\n",
    " - ```tr_type``` – тип транзакции;\n",
    " - ```tr_description``` — описание типа транзакции;"
   ]
  },
  {
   "cell_type": "markdown",
   "metadata": {},
   "source": [
    "### Задание 3.\n",
    "1. В датафрейме transactions задайте столбец  customer_id в качестве индекса.\n",
    "2. Выделите клиента с максимальной суммой транзакции (то есть с максимальным приходом на карту). (\\*)\n",
    "3. Найдите у него наиболее часто встречающийся модуль суммы приходов/расходов. (\\**)\n",
    "4. Выделите клиента с минимальной суммой транзакции.\n",
    "\n",
    "\n",
    "\n",
    "##### Пояснения:\n",
    "(\\*) Если у клиента были транзакции [-10000, 10, 0, -10], то максимумом будет являться значение 10. <br>\n",
    "(\\**) Если у клиента были транзакции [-10000, 10, 0, -10], то наиболее встречающийся модуль суммы транзакций равен 10, и встретился он 2 раза."
   ]
  },
  {
   "cell_type": "code",
   "execution_count": 26,
   "metadata": {
    "ExecuteTime": {
     "end_time": "2020-04-23T10:20:53.265495Z",
     "start_time": "2020-04-23T10:20:53.263208Z"
    },
    "scrolled": true
   },
   "outputs": [
    {
     "name": "stdout",
     "output_type": "stream",
     "text": [
      "Клиент с максимальной суммой транзакции (приход): 26782922\n",
      "Наиболее часто встречающийся модуль суммы транзакций: 22459.16\n",
      "Клиент с минимальной суммой транзакции (расход): 26782922\n"
     ]
    }
   ],
   "source": [
    "transactions.set_index('customer_id', inplace=True)\n",
    "\n",
    "max_transaction_customer_id = transactions['amount'].idxmax()\n",
    "\n",
    "customer_transactions = transactions.loc[max_transaction_customer_id]\n",
    "most_frequent_amount = customer_transactions['amount'].abs().mode()[0]\n",
    "\n",
    "min_transaction_customer_id = transactions['amount'].idxmin()\n",
    "\n",
    "print(\"Клиент с максимальной суммой транзакции (приход):\", max_transaction_customer_id)\n",
    "print(\"Наиболее часто встречающийся модуль суммы транзакций:\", most_frequent_amount)\n",
    "print(\"Клиент с минимальной суммой транзакции (расход):\", min_transaction_customer_id)"
   ]
  },
  {
   "cell_type": "markdown",
   "metadata": {},
   "source": [
    "### Задание 4.\n",
    "1. Найдите максимальную разницу между медианами суммы транзакций, посчитанными при заданных ниже условиях по полю amount из таблицы transactions (\\*):\n",
    "    - Медиана суммы транзакций\n",
    "    - Медиана суммы транзакций по тем строкам, которые ни в одном из своих столбцов не содержат пустые значения\n",
    "    - Медиана суммы транзакций по строкам, отсортированным по полю amount в порядке убывания, и из которых удалены дублирующиеся по столбцам [mcc_code, tr_type] строки, причём при удалении соответстующих дублей остаются только первые из дублирующихся строк\n",
    "\n",
    "\n",
    "\n",
    "##### Пояснения:\n",
    "(\\*) Для вычисления максимальной разницы между значениями списка можно использовать функцию np.ptp  \n",
    "(\\**) Если в результате получились значения [1,3,5], то макимальная разница между ними 4 == 5-1."
   ]
  },
  {
   "cell_type": "code",
   "execution_count": 27,
   "metadata": {
    "ExecuteTime": {
     "end_time": "2020-04-23T10:20:53.265495Z",
     "start_time": "2020-04-23T10:20:53.263208Z"
    },
    "scrolled": true
   },
   "outputs": [
    {
     "name": "stdout",
     "output_type": "stream",
     "text": [
      "Медиана всех транзакций: -5614.79\n",
      "Медиана без пустых значений: -5596.6\n",
      "Медиана отсортированных уникальных транзакций: -920.83\n",
      "Максимальная разница между медианами: 4693.96\n"
     ]
    }
   ],
   "source": [
    "median_all = transactions['amount'].median()\n",
    "median_non_na = transactions.dropna().amount.median()\n",
    "\n",
    "sorted_transactions = transactions.sort_values(by='amount', ascending=False)\n",
    "unique_transactions = sorted_transactions.drop_duplicates(subset=['mcc_code', 'tr_type'], keep='first')\n",
    "median_unique_sorted = unique_transactions['amount'].median()\n",
    "\n",
    "medians = [median_all, median_non_na, median_unique_sorted]\n",
    "max_difference = np.ptp(medians)\n",
    "\n",
    "print(\"Медиана всех транзакций:\", median_all)\n",
    "print(\"Медиана без пустых значений:\", median_non_na)\n",
    "print(\"Медиана отсортированных уникальных транзакций:\", median_unique_sorted)\n",
    "print(\"Максимальная разница между медианами:\", max_difference)"
   ]
  },
  {
   "cell_type": "markdown",
   "metadata": {},
   "source": [
    "### Задание 5.\n",
    "Соедините transactions со всеми остальными таблицами (tr_mcc_codes, tr_types, gender_train). Причём с customers_gender_train необходимо смёрджиться с помощью left join, а с оставшимися датафреймами - через inner.\n",
    "После получения результата таблицы gender_train, tr_types, tr_mcc_codes можно удалить. В результате соединения датафреймов должно получиться 999584 строки."
   ]
  },
  {
   "cell_type": "code",
   "execution_count": 28,
   "metadata": {
    "ExecuteTime": {
     "end_time": "2020-04-23T10:26:27.618399Z",
     "start_time": "2020-04-23T10:26:27.615930Z"
    }
   },
   "outputs": [
    {
     "name": "stdout",
     "output_type": "stream",
     "text": [
      "Количество строк после объединения: 999584\n"
     ]
    }
   ],
   "source": [
    "transactions = pd.read_csv(filepath_or_buffer = \"../Mavlyukaev_AI/data/transactions.csv\", \n",
    "                           sep=',', \n",
    "                           nrows=1000000)\n",
    "transactions = transactions.merge(tr_mcc_codes)\n",
    "transactions = transactions.merge(tr_types)\n",
    "transactions = transactions.merge(gender_train, how='left')\n",
    "\n",
    "print(f\"Количество строк после объединения: {len(transactions)}\")"
   ]
  },
  {
   "cell_type": "markdown",
   "metadata": {},
   "source": [
    "### Задание 6.\n",
    "1. Определите модуль разницы между медианными тратами женщин и мужчин (трата - отрицательное значение amount). \n",
    "\n",
    "\n",
    "\n",
    "##### Пояснения:\n",
    "\n",
    "\n",
    "(\\**) Обратите внимание, что для вычисления модуля разности точных знаний о том,  \n",
    "какой класc относится к мужчинам, а какой - к женщинам, пока не требуется.\n"
   ]
  },
  {
   "cell_type": "code",
   "execution_count": 29,
   "metadata": {
    "ExecuteTime": {
     "end_time": "2020-04-23T10:35:27.760136Z",
     "start_time": "2020-04-23T10:35:27.757599Z"
    }
   },
   "outputs": [
    {
     "name": "stdout",
     "output_type": "stream",
     "text": [
      "Модуль разницы между медианными тратами женщин и мужчин: 1459.8500000000004\n"
     ]
    }
   ],
   "source": [
    "expenses = transactions[transactions['amount'] < 0]\n",
    "median_by_gender = expenses.groupby('gender')['amount'].median()\n",
    "mod_difference = abs(median_by_gender[0] - median_by_gender[1])\n",
    "\n",
    "print(f\"Модуль разницы между медианными тратами женщин и мужчин: {mod_difference}\")"
   ]
  },
  {
   "cell_type": "markdown",
   "metadata": {},
   "source": [
    "### Задание 7.\n",
    "1. По всем типам транзакций рассчитайте максимальную сумму прихода на карту (из строго положительных сумм по столбцу amount) отдельно для мужчин и женщин (назовите ее \"max_income\"). Оставьте по 10 транзакций для мужчин и для женщин, наибольших среди всех транзакций по полученным значениям \"max_income\". (\\*)\n",
    "2. Выведите те, которые встречаются одновременно и у мужчин, и у женщин.\n"
   ]
  },
  {
   "cell_type": "code",
   "execution_count": 30,
   "metadata": {
    "ExecuteTime": {
     "end_time": "2020-04-23T10:36:36.494729Z",
     "start_time": "2020-04-23T10:36:36.492051Z"
    }
   },
   "outputs": [
    {
     "name": "stdout",
     "output_type": "stream",
     "text": [
      "Общие транзакции между мужчинами и женщинами по типам транзакций:\n",
      "   gender_men  tr_type  max_income_men  gender_women  max_income_women\n",
      "0         0.0     7070     67377473.16           1.0      1.459845e+08\n",
      "1         0.0     7020     22459157.72           1.0      2.133620e+07\n",
      "2         0.0     7021     13677627.05           1.0      1.796733e+07\n",
      "3         0.0     7071     11229578.86           1.0      1.111728e+07\n",
      "4         0.0     7010      8983663.09           1.0      9.769734e+06\n",
      "5         0.0     7031      6513155.74           1.0      5.614789e+06\n",
      "6         0.0     7030      5614789.43           1.0      6.737747e+06\n",
      "7         0.0     7011      4604127.33           1.0      7.433981e+06\n"
     ]
    }
   ],
   "source": [
    "incomes = transactions[transactions['amount'] > 0]\n",
    "\n",
    "max_income_by_gender_tr_type = incomes.groupby(['gender', 'tr_type'])['amount'].max().reset_index()\n",
    "max_income_by_gender_tr_type.rename(columns={'amount': 'max_income'}, inplace=True)\n",
    "\n",
    "top_10_men = max_income_by_gender_tr_type[max_income_by_gender_tr_type['gender'] == 0].nlargest(10, 'max_income')\n",
    "top_10_women = max_income_by_gender_tr_type[max_income_by_gender_tr_type['gender'] == 1].nlargest(10, 'max_income')\n",
    "\n",
    "common_transactions = pd.merge(top_10_men, top_10_women, on='tr_type', suffixes=('_men', '_women'))\n",
    "\n",
    "print(\"Общие транзакции между мужчинами и женщинами по типам транзакций:\")\n",
    "print(common_transactions)"
   ]
  },
  {
   "cell_type": "markdown",
   "metadata": {},
   "source": [
    "### Задание 8.\n",
    "1. Выделите из поля tr_datetime относительный день tr_day (первое число до точного времени). (\\*)\n",
    "2. Отфильтруйте строки таким образом, чтобы оставить только те транзакции, у которых в соответствующий относительный день tr_day количество уникальных MCC кодов при транзакциях было больше 75 (можно воспользоваться функцией nunique())\n",
    "3. Сгруппируйте полученный отфильтрованный датафрейм по MCC коду и полу, после чего, пронализировав результат, выберите верные варианты ответов ниже (\\**): \n",
    "    - 1) gender == 0 - женщины, gender == 1 - мужчины\n",
    "    - 2) gender == 1 - женщины, gender == 0 - мужчины\n",
    "    - 3) Абсолютное значение медианы с типом \"Флористика\" (расходов/приходов) у мужчин выше той же медианы у женщин\n",
    "    - 4) Абсолютное значение медианы женских трат (расходов/приходов) на ценные бумаги выше мужских\n",
    "    - 5) Абсолютное значение медианы женских трат (расходов/приходов) в категории \"Бары, коктейль-бары, дискотеки, ночные клубы и таверны — места продажи алкогольных напитков\" ниже мужских\n",
    "    \n",
    "##### Пояснения:\n",
    "(\\*) Для того, чтобы выделить всё, что стоит до первого пробела, можно использовать строковые методы для датафрейма - .str.split(), например. \n",
    "(\\**) Понять, какой класс к какому типу транзакций (мужские/женские) относится можно, если поизучать типичные для мужчин/женщин категории и сравнить средние/медианы расходов и/или приходов в них.<br>\n",
    "Снять ограничение на количество выводимых строк можно с помощью:\n",
    "with pd.option_context('display.max_rows', None, 'display.max_columns', None):  \n",
    "    print(a)"
   ]
  },
  {
   "cell_type": "code",
   "execution_count": 33,
   "metadata": {
    "ExecuteTime": {
     "end_time": "2020-04-23T10:38:02.450820Z",
     "start_time": "2020-04-23T10:38:02.448354Z"
    }
   },
   "outputs": [
    {
     "name": "stdout",
     "output_type": "stream",
     "text": [
      "Медианы расходов/приходов для флористики: gender\n",
      "0.0    13890.99\n",
      "1.0    18865.69\n",
      "Name: amount, dtype: float64\n",
      "Медианы расходов/приходов для баров и клубов: gender\n",
      "0.0     9387.93\n",
      "1.0    13475.49\n",
      "Name: amount, dtype: float64\n",
      "Медианы расходов/приходов для ценных бумаг: gender\n",
      "0.0     6737.75\n",
      "1.0    11229.58\n",
      "Name: amount, dtype: float64\n"
     ]
    }
   ],
   "source": [
    "transactions['tr_day'] = transactions['tr_datetime'].str.split(' ').str[0]\n",
    "\n",
    "mcc_count_by_day = transactions.groupby('tr_day')['mcc_code'].nunique()\n",
    "\n",
    "valid_days = mcc_count_by_day[mcc_count_by_day > 75].index\n",
    "filtered_transactions = transactions[transactions['tr_day'].isin(valid_days)]\n",
    "\n",
    "grouped = filtered_transactions.groupby(['mcc_code', 'gender'])\n",
    "\n",
    "median_expenses = grouped['amount'].median().abs()\n",
    "\n",
    "floristics_code = tr_mcc_codes[tr_mcc_codes['mcc_description'] == \"Флористика\"]['mcc_code'].iloc[0]\n",
    "bars_code = tr_mcc_codes[tr_mcc_codes['mcc_description'] == \"Бары, коктейль-бары, дискотеки, ночные клубы и таверны — места продажи алкогольных напитков\"]['mcc_code'].iloc[0] \n",
    "securities_code = tr_mcc_codes[tr_mcc_codes['mcc_description'] == \"Ценные бумаги: брокеры/дилеры\"]['mcc_code'].iloc[0]\n",
    "\n",
    "floristics_median = median_expenses.loc[floristics_code]\n",
    "bars_median = median_expenses.loc[bars_code]\n",
    "securities_median = median_expenses.loc[securities_code]\n",
    "\n",
    "print(\"Медианы расходов/приходов для флористики:\", floristics_median)\n",
    "print(\"Медианы расходов/приходов для баров и клубов:\", bars_median)\n",
    "print(\"Медианы расходов/приходов для ценных бумаг:\", securities_median)"
   ]
  },
  {
   "cell_type": "code",
   "execution_count": null,
   "metadata": {},
   "outputs": [],
   "source": []
  }
 ],
 "metadata": {
  "hide_input": false,
  "kernelspec": {
   "display_name": "Python 3 (ipykernel)",
   "language": "python",
   "name": "python3"
  },
  "language_info": {
   "codemirror_mode": {
    "name": "ipython",
    "version": 3
   },
   "file_extension": ".py",
   "mimetype": "text/x-python",
   "name": "python",
   "nbconvert_exporter": "python",
   "pygments_lexer": "ipython3",
   "version": "3.11.7"
  },
  "toc": {
   "base_numbering": 1,
   "nav_menu": {
    "height": "254px",
    "width": "250px"
   },
   "number_sections": true,
   "sideBar": true,
   "skip_h1_title": false,
   "title_cell": "Table of Contents",
   "title_sidebar": "Contents",
   "toc_cell": true,
   "toc_position": {},
   "toc_section_display": true,
   "toc_window_display": true
  },
  "varInspector": {
   "cols": {
    "lenName": 16,
    "lenType": 16,
    "lenVar": 40
   },
   "kernels_config": {
    "python": {
     "delete_cmd_postfix": "",
     "delete_cmd_prefix": "del ",
     "library": "var_list.py",
     "varRefreshCmd": "print(var_dic_list())"
    },
    "r": {
     "delete_cmd_postfix": ") ",
     "delete_cmd_prefix": "rm(",
     "library": "var_list.r",
     "varRefreshCmd": "cat(var_dic_list()) "
    }
   },
   "types_to_exclude": [
    "module",
    "function",
    "builtin_function_or_method",
    "instance",
    "_Feature"
   ],
   "window_display": false
  }
 },
 "nbformat": 4,
 "nbformat_minor": 4
}
