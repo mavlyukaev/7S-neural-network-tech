{
  "cells": [
    {
      "cell_type": "markdown",
      "metadata": {
        "toc": true,
        "id": "qxov04i1AHZg"
      },
      "source": [
        "<h1>Table of Contents<span class=\"tocSkip\"></span></h1>\n",
        "<div class=\"toc\"><ul class=\"toc-item\"><li><span><a href=\"#PyTorch.-Основы:-синтаксис,-torch.cuda-и-torch.autograd\" data-toc-modified-id=\"PyTorch.-Основы:-синтаксис,-torch.cuda-и-torch.autograd-1\"><span class=\"toc-item-num\">1&nbsp;&nbsp;</span><b>PyTorch. Основы: синтаксис, torch.cuda и torch.autograd</b></a></span><ul class=\"toc-item\"><li><span><a href=\"#Задача-1\" data-toc-modified-id=\"Задача-1-1.1\"><span class=\"toc-item-num\">1.1&nbsp;&nbsp;</span>Задача 1</a></span></li><li><span><a href=\"#Задача-2\" data-toc-modified-id=\"Задача-2-1.2\"><span class=\"toc-item-num\">1.2&nbsp;&nbsp;</span>Задача 2</a></span></li><li><span><a href=\"#Задача-3\" data-toc-modified-id=\"Задача-3-1.3\"><span class=\"toc-item-num\">1.3&nbsp;&nbsp;</span>Задача 3</a></span></li><li><span><a href=\"#Задача-4\" data-toc-modified-id=\"Задача-4-1.4\"><span class=\"toc-item-num\">1.4&nbsp;&nbsp;</span>Задача 4</a></span></li><li><span><a href=\"#Задача-5\" data-toc-modified-id=\"Задача-5-1.5\"><span class=\"toc-item-num\">1.5&nbsp;&nbsp;</span>Задача 5</a></span></li></ul></li></ul></div>"
      ]
    },
    {
      "cell_type": "markdown",
      "metadata": {
        "id": "zqPnyO9_YJ8t"
      },
      "source": [
        "---"
      ]
    },
    {
      "cell_type": "markdown",
      "metadata": {
        "id": "vcnGdgw_YJ8u"
      },
      "source": [
        "<h2 style=\"text-align: center;\"><b>PyTorch. Основы: синтаксис, torch.cuda и torch.autograd</b></h2>"
      ]
    },
    {
      "cell_type": "markdown",
      "metadata": {
        "id": "-Iv1eX2mYJ8v"
      },
      "source": [
        "<p style=\"align: center;\"><img src=\"https://raw.githubusercontent.com/pytorch/pytorch/master/docs/source/_static/img/pytorch-logo-dark.png\", width=400, height=300></p>"
      ]
    },
    {
      "cell_type": "markdown",
      "metadata": {
        "id": "Kn50XC_9AHZi"
      },
      "source": [
        "---"
      ]
    },
    {
      "cell_type": "code",
      "execution_count": 1,
      "metadata": {
        "id": "RtyozNmmYJ89"
      },
      "outputs": [],
      "source": [
        "import torch\n",
        "import matplotlib.pyplot as plt"
      ]
    },
    {
      "cell_type": "markdown",
      "metadata": {
        "id": "ny4-Qi2wYJ-6"
      },
      "source": [
        "### Задача 1"
      ]
    },
    {
      "cell_type": "markdown",
      "metadata": {
        "id": "IWxlFq0bYJ-_"
      },
      "source": [
        "1). Создайте два вещественных тензора: `a` размером (3, 4) и `b` размером (12,)   \n",
        "2). Создайте тензор `c`, являющийся тензором `b`, но размера (2, 2, 3)  \n",
        "3). Выведите первый столбец матрицы `a` с помощью индексации"
      ]
    },
    {
      "cell_type": "code",
      "execution_count": 2,
      "metadata": {
        "colab": {
          "base_uri": "https://localhost:8080/"
        },
        "id": "3oxZuk3yYJ_A",
        "outputId": "f89551ec-8047-4e57-cf15-60f2d0c9e737"
      },
      "outputs": [
        {
          "output_type": "stream",
          "name": "stdout",
          "text": [
            "Тензор a:\n",
            " tensor([[0.3153, 0.7754, 0.7484, 0.4672],\n",
            "        [0.4625, 0.2157, 0.2130, 0.3231],\n",
            "        [0.4196, 0.4984, 0.8455, 0.3931]])\n",
            "\n",
            "Тензор b:\n",
            " tensor([0.2908, 0.2474, 0.9763, 0.8438, 0.1354, 0.6457, 0.6760, 0.8425, 0.5791,\n",
            "        0.2884, 0.7153, 0.7556])\n",
            "\n",
            "Тензор c:\n",
            " tensor([[[0.2908, 0.2474, 0.9763],\n",
            "         [0.8438, 0.1354, 0.6457]],\n",
            "\n",
            "        [[0.6760, 0.8425, 0.5791],\n",
            "         [0.2884, 0.7153, 0.7556]]])\n",
            "\n",
            "Первый столбец тензора a:\n",
            " tensor([0.3153, 0.4625, 0.4196])\n"
          ]
        }
      ],
      "source": [
        "# 1. Создаем два вещественных тензора a и b\n",
        "a = torch.rand(3, 4, dtype=torch.float32)  # Тензор a размером (3, 4)\n",
        "b = torch.rand(12, dtype=torch.float32)    # Тензор b размером (12,)\n",
        "\n",
        "# 2. Преобразуем b в тензор c размером (2, 2, 3)\n",
        "c = b.view(2, 2, 3)\n",
        "\n",
        "# 3. Выводим первый столбец матрицы a\n",
        "first_column_a = a[:, 0]\n",
        "\n",
        "# Печать результатов\n",
        "print(\"Тензор a:\\n\", a)\n",
        "print(\"\\nТензор b:\\n\", b)\n",
        "print(\"\\nТензор c:\\n\", c)\n",
        "print(\"\\nПервый столбец тензора a:\\n\", first_column_a)\n"
      ]
    },
    {
      "cell_type": "markdown",
      "metadata": {
        "id": "D2IP_FrKYKAA"
      },
      "source": [
        "### Задача 2"
      ]
    },
    {
      "cell_type": "markdown",
      "metadata": {
        "id": "tBZFbSYQYKAA"
      },
      "source": [
        "1). Создайте два вещественных тензора: `a` размером (5, 2) и `b` размером (1,10)   \n",
        "2). Создайте тензор `c`, являющийся тензором `b`, но размера (5, 2)  \n",
        "3). Произведите все арифметические операции с тензорами `a` и `c`"
      ]
    },
    {
      "cell_type": "code",
      "execution_count": 3,
      "metadata": {
        "colab": {
          "base_uri": "https://localhost:8080/"
        },
        "id": "hzs2bH3GYKAB",
        "outputId": "34e5d698-5907-45e9-9e2b-0f40eac7f277"
      },
      "outputs": [
        {
          "output_type": "stream",
          "name": "stdout",
          "text": [
            "Тензор a:\n",
            " tensor([[0.4214, 0.8651],\n",
            "        [0.1202, 0.8948],\n",
            "        [0.0613, 0.4173],\n",
            "        [0.6514, 0.0883],\n",
            "        [0.8093, 0.4835]])\n",
            "\n",
            "Тензор b (изначальный):\n",
            " tensor([[0.0157, 0.8571, 0.0502, 0.9554, 0.6619, 0.8488, 0.7854, 0.9463, 0.2837,\n",
            "         0.4186]])\n",
            "\n",
            "Тензор c (преобразованный):\n",
            " tensor([[0.0157, 0.8571],\n",
            "        [0.0502, 0.9554],\n",
            "        [0.6619, 0.8488],\n",
            "        [0.7854, 0.9463],\n",
            "        [0.2837, 0.4186]])\n",
            "\n",
            "Сумма a + c:\n",
            " tensor([[0.4371, 1.7223],\n",
            "        [0.1704, 1.8502],\n",
            "        [0.7231, 1.2661],\n",
            "        [1.4368, 1.0346],\n",
            "        [1.0929, 0.9021]])\n",
            "\n",
            "Разность a - c:\n",
            " tensor([[ 0.4057,  0.0080],\n",
            "        [ 0.0701, -0.0606],\n",
            "        [-0.6006, -0.4316],\n",
            "        [-0.1339, -0.8581],\n",
            "        [ 0.5256,  0.0650]])\n",
            "\n",
            "Произведение a * c:\n",
            " tensor([[0.0066, 0.7415],\n",
            "        [0.0060, 0.8549],\n",
            "        [0.0406, 0.3542],\n",
            "        [0.5116, 0.0835],\n",
            "        [0.2296, 0.2024]])\n",
            "\n",
            "Частное a / c:\n",
            " tensor([[26.8352,  1.0093],\n",
            "        [ 2.3969,  0.9366],\n",
            "        [ 0.0926,  0.4916],\n",
            "        [ 0.8295,  0.0933],\n",
            "        [ 2.8530,  1.1553]])\n"
          ]
        }
      ],
      "source": [
        "# 1. Создаем два вещественных тензора a и b\n",
        "a = torch.rand(5, 2, dtype=torch.float32)  # Тензор a размером (5, 2)\n",
        "b = torch.rand(1, 10, dtype=torch.float32) # Тензор b размером (1, 10)\n",
        "\n",
        "# 2. Преобразуем b в тензор c размером (5, 2)\n",
        "c = b.view(5, 2)\n",
        "\n",
        "# 3. Выполняем арифметические операции между a и c\n",
        "sum_result = a + c        # Сложение\n",
        "diff_result = a - c       # Вычитание\n",
        "prod_result = a * c       # Умножение поэлементно\n",
        "div_result = a / c        # Деление поэлементно\n",
        "\n",
        "# Вывод результатов\n",
        "print(\"Тензор a:\\n\", a)\n",
        "print(\"\\nТензор b (изначальный):\\n\", b)\n",
        "print(\"\\nТензор c (преобразованный):\\n\", c)\n",
        "print(\"\\nСумма a + c:\\n\", sum_result)\n",
        "print(\"\\nРазность a - c:\\n\", diff_result)\n",
        "print(\"\\nПроизведение a * c:\\n\", prod_result)\n",
        "print(\"\\nЧастное a / c:\\n\", div_result)"
      ]
    },
    {
      "cell_type": "markdown",
      "metadata": {
        "id": "rIaroFO6YKBT"
      },
      "source": [
        "### Задача 3"
      ]
    },
    {
      "cell_type": "markdown",
      "metadata": {
        "id": "GfLHVvKvYKBT"
      },
      "source": [
        "1). Создайте тензор *целых чисел* `images` размерности (100, 200, 200, 3) (можно интерпретировать это как 100 картинок размера 200х200 с тремя цветовыми каналами, то есть 100 цветных изображений 200х200). Заполните его нулями  \n",
        "\n",
        "2). Сделайте так, чтобы у $i$-ой по порядку картинки была нарисована белая полоса толщиной два пикселя в строках, которые соответствуют номеру картинки. Например, у 3-ей по порядку картинки белая полоска будет занимать 6 и 7 строки, у 99 -- 198 и 199. Сделать белую строку можно, записав в ячейки тензора число 255 (по всем трём каналам). Выведите пару примеров с помощоью `pylot`  \n",
        "\n",
        "3). Посчитайте среднее тензора `images` по 1-ой оси (по сути - средняя картинка), умножьте полученный тензор на 70. Нарисуйте с помощью `pyplot`, должна получиться серая картинка (при взятии среднего нужно привести тензор к float с помощью `.float()`, при отрисовке обратно к int с помощью `.int()`)"
      ]
    },
    {
      "cell_type": "code",
      "execution_count": 4,
      "metadata": {
        "colab": {
          "base_uri": "https://localhost:8080/",
          "height": 1000
        },
        "id": "pZVGHEQQYKBU",
        "outputId": "7666406b-54c3-489a-d6cd-da995b30b44f"
      },
      "outputs": [
        {
          "output_type": "display_data",
          "data": {
            "text/plain": [
              "<Figure size 1000x500 with 1 Axes>"
            ],
            "image/png": "[encoded data removed]"
          },
          "metadata": {}
        },
        {
          "output_type": "display_data",
          "data": {
            "text/plain": [
              "<Figure size 640x480 with 1 Axes>"
            ],
            "image/png": "[encoded data removed]"
          },
          "metadata": {}
        },
        {
          "output_type": "display_data",
          "data": {
            "text/plain": [
              "<Figure size 640x480 with 1 Axes>"
            ],
            "image/png": "[encoded data removed]"
          },
          "metadata": {}
        }
      ],
      "source": [
        "# 1. Создаем тензор images размером (100, 200, 200, 3)\n",
        "images = torch.zeros((100, 200, 200, 3), dtype=torch.int32)\n",
        "\n",
        "# 2. Рисуем белые полосы на каждой i-ой картинке\n",
        "for i in range(10):\n",
        "    images[i, i * 2:i * 2 + 2, :, :] = 255  # Белая полоса толщиной 2 пикселя\n",
        "\n",
        "# Отображение примеров изображений с полосами\n",
        "plt.figure(figsize=(10, 5))\n",
        "for idx in [2, 8]:  # Примеры: 3-я и 9-я картинка\n",
        "    plt.imshow(images[idx].numpy())\n",
        "    plt.title(f\"Image {idx + 1}\")\n",
        "    plt.axis(\"off\")\n",
        "    plt.show()\n",
        "\n",
        "# 3. Считаем среднее по 1-й оси (среднюю картинку), умножаем на 70, и визуализируем\n",
        "average_image = images.float().mean(dim=0) * 70  # Приведение к float и умножение\n",
        "average_image = average_image.int()             # Приведение к int\n",
        "\n",
        "plt.imshow(average_image.numpy())\n",
        "plt.title(\"Average Image Scaled\")\n",
        "plt.axis(\"off\")\n",
        "plt.show()"
      ]
    },
    {
      "cell_type": "markdown",
      "metadata": {
        "id": "1ALNkrzMYKCY"
      },
      "source": [
        "### Задача 4"
      ]
    },
    {
      "cell_type": "markdown",
      "metadata": {
        "id": "7-KS81rUYKCY"
      },
      "source": [
        "Перейдите на Google Colaboratory, чтобы работать с GPU. Загрузите туда этот ноутбук (Upload notebook)\n",
        "В Colab нажмите в меню сверху: Runtime -> Change Runtime Type -> GPU, где изначально стоит None\n",
        "Объявите тензор a размера (2, 3, 4) и тензор b размера (1, 8, 3) на GPU, иницилизируйте их случайно равномерно (.uniform_())\n",
        "Затем измените форму тензора b, чтобы она совпадала с формой тензора a, получите тензор c\n",
        "Переместите c на CPU, переместите a на CPU\n",
        "Оберните их в Variable()\n",
        "Объявите тензор L = torch.mean((c - a) ** 2) и посчитайте градиент L по c ( то есть  ∂𝐿∂𝑐)\n",
        "\n",
        "Выведите градиент L по c"
      ]
    },
    {
      "cell_type": "code",
      "source": [
        "# Загрузка необходимых библиотек\n",
        "import torch\n",
        "from torch.autograd import Variable\n",
        "\n",
        "# Убедитесь, что вы работаете с GPU\n",
        "device = torch.device(\"cuda\" if torch.cuda.is_available() else \"cpu\")\n",
        "\n",
        "# 1. Создаем тензоры a и b на GPU\n",
        "a = torch.empty(2, 3, 4, device=device).uniform_()  # Тензор a (2, 3, 4)\n",
        "b = torch.empty(1, 8, 3, device=device).uniform_()  # Тензор b (1, 8, 3)\n",
        "\n",
        "# 2. Изменяем форму тензора b для совпадения с формой a\n",
        "c = b.view_as(a)  # Тензор c с формой, совпадающей с a\n",
        "\n",
        "# 3. Перемещаем c и a на CPU\n",
        "c_cpu = c.cpu()\n",
        "a_cpu = a.cpu()\n",
        "\n",
        "# 4. Оборачиваем их в Variable\n",
        "c_var = Variable(c_cpu, requires_grad=True)\n",
        "a_var = Variable(a_cpu, requires_grad=False)\n",
        "\n",
        "# 5. Объявляем тензор L и считаем градиент\n",
        "L = torch.mean((c_var - a_var) ** 2)  # L = MSE между c и a\n",
        "L.backward()  # Вычисляем градиент\n",
        "\n",
        "# Выводим градиент L по c\n",
        "print(\"Градиент L по c:\\n\", c_var.grad)\n"
      ],
      "metadata": {
        "id": "SgRkC3grCCd6",
        "outputId": "b1df58db-d67a-4931-f858-85a72fd4eade",
        "colab": {
          "base_uri": "https://localhost:8080/"
        }
      },
      "execution_count": 6,
      "outputs": [
        {
          "output_type": "stream",
          "name": "stdout",
          "text": [
            "Градиент L по c:\n",
            " tensor([[[ 0.0171,  0.0630,  0.0411, -0.0338],\n",
            "         [ 0.0256, -0.0053, -0.0067,  0.0254],\n",
            "         [-0.0225,  0.0253, -0.0192,  0.0255]],\n",
            "\n",
            "        [[ 0.0361, -0.0078,  0.0821, -0.0497],\n",
            "         [-0.0273, -0.0157,  0.0667, -0.0156],\n",
            "         [ 0.0166,  0.0422, -0.0171,  0.0508]]])\n"
          ]
        }
      ]
    },
    {
      "cell_type": "markdown",
      "metadata": {
        "id": "BK50N7XgAHZk"
      },
      "source": [
        "### Задача 5"
      ]
    },
    {
      "cell_type": "markdown",
      "metadata": {
        "id": "TuUwoZadAHZk"
      },
      "source": [
        "Доработайте многослойную нейронную сеть из файла \"6_3 mlp pytorch tasks\"."
      ]
    },
    {
      "cell_type": "code",
      "source": [
        "import torch\n",
        "import numpy as np\n",
        "import matplotlib.pyplot as plt\n",
        "\n",
        "# Генерация данных\n",
        "N = 100\n",
        "D = 2\n",
        "K = 3\n",
        "X = np.zeros((N * K, D))\n",
        "y = np.zeros(N * K, dtype=\"uint8\")\n",
        "\n",
        "for j in range(K):\n",
        "    ix = range(N * j, N * (j + 1))\n",
        "    r = np.linspace(0.0, 1, N)\n",
        "    t = np.linspace(j * 4, (j + 1) * 4, N) + np.random.randn(N) * 0.2  # theta\n",
        "    X[ix] = np.c_[r * np.sin(t), r * np.cos(t)]\n",
        "    y[ix] = j\n",
        "\n",
        "# Оборачиваем данные\n",
        "X = torch.autograd.Variable(torch.FloatTensor(X))\n",
        "y = torch.autograd.Variable(torch.LongTensor(y.astype(np.int64)))\n",
        "\n",
        "# Параметры\n",
        "N, D_in, H, D_out = 64, 2, 100, 3\n",
        "\n",
        "# Создаем сеть better_net с 4-мя слоями\n",
        "better_net = torch.nn.Sequential(\n",
        "    torch.nn.Linear(D_in, H),\n",
        "    torch.nn.ReLU(),\n",
        "    torch.nn.Linear(H, H),\n",
        "    torch.nn.ReLU(),\n",
        "    torch.nn.Linear(H, D_out),\n",
        ")\n",
        "\n",
        "# Функция потерь: Кроссэнтропия\n",
        "loss_fn = torch.nn.CrossEntropyLoss()\n",
        "\n",
        "# Learning rate\n",
        "learning_rate = 1e-3\n",
        "\n",
        "# Оптимизатор\n",
        "optimizer = torch.optim.SGD(better_net.parameters(), lr=learning_rate)\n",
        "\n",
        "# Обучаем на 1000 эпохах\n",
        "for epoch in range(1000):\n",
        "    # Forward pass\n",
        "    y_pred = better_net(X)\n",
        "\n",
        "    # Вычисляем потери\n",
        "    loss = loss_fn(y_pred, y)\n",
        "\n",
        "    if epoch % 100 == 0:  # Печатаем каждые 100 эпох\n",
        "        print(f\"Эпоха {epoch}: Потери = {loss.item()}\")\n",
        "\n",
        "    # Зануляем градиенты\n",
        "    optimizer.zero_grad()\n",
        "\n",
        "    # Backward pass\n",
        "    loss.backward()\n",
        "\n",
        "    # Обновляем параметры\n",
        "    optimizer.step()\n",
        "\n",
        "# Визуализация результатов\n",
        "X_np = X.data.numpy()\n",
        "y_np = y.data.numpy()\n",
        "\n",
        "h = 0.02\n",
        "x_min, x_max = X_np[:, 0].min() - 1, X_np[:, 0].max() + 1\n",
        "y_min, y_max = X_np[:, 1].min() - 1, X_np[:, 1].max() + 1\n",
        "\n",
        "xx, yy = np.meshgrid(np.arange(x_min, x_max, h), np.arange(y_min, y_max, h))\n",
        "grid_tensor = torch.FloatTensor(np.c_[xx.ravel(), yy.ravel()])\n",
        "\n",
        "Z = better_net(torch.autograd.Variable(grid_tensor))\n",
        "Z = Z.data.numpy()\n",
        "Z = np.argmax(Z, axis=1)\n",
        "Z = Z.reshape(xx.shape)\n",
        "\n",
        "plt.figure(figsize=(10, 8))\n",
        "\n",
        "plt.contourf(xx, yy, Z, cmap=plt.cm.rainbow, alpha=0.3)\n",
        "plt.scatter(X_np[:, 0], X_np[:, 1], c=y_np, s=40, cmap=plt.cm.rainbow)\n",
        "\n",
        "plt.xlim(xx.min(), xx.max())\n",
        "plt.ylim(yy.min(), yy.max())\n",
        "\n",
        "plt.title(\"Спираль\", fontsize=15)\n",
        "plt.xlabel(\"$x$\", fontsize=14)\n",
        "plt.ylabel(\"$y$\", fontsize=14)\n",
        "plt.show()\n"
      ],
      "metadata": {
        "colab": {
          "base_uri": "https://localhost:8080/",
          "height": 706
        },
        "id": "QrTsqqVHEKAT",
        "outputId": "890bbeb8-c45a-42ea-d812-3e4663f5426e"
      },
      "execution_count": 7,
      "outputs": [
        {
          "output_type": "stream",
          "name": "stdout",
          "text": [
            "Эпоха 0: Потери = 1.100751519203186\n",
            "Эпоха 100: Потери = 1.0940704345703125\n",
            "Эпоха 200: Потери = 1.0876915454864502\n",
            "Эпоха 300: Потери = 1.0814790725708008\n",
            "Эпоха 400: Потери = 1.0754965543746948\n",
            "Эпоха 500: Потери = 1.0697101354599\n",
            "Эпоха 600: Потери = 1.0640114545822144\n",
            "Эпоха 700: Потери = 1.058380126953125\n",
            "Эпоха 800: Потери = 1.0528095960617065\n",
            "Эпоха 900: Потери = 1.0472615957260132\n"
          ]
        },
        {
          "output_type": "display_data",
          "data": {
            "text/plain": [
              "<Figure size 1000x800 with 1 Axes>"
            ],
            "image/png": "[encoded data removed]"
          },
          "metadata": {}
        }
      ]
    }
  ],
  "metadata": {
    "colab": {
      "provenance": [],
      "toc_visible": true
    },
    "kernelspec": {
      "display_name": "Python 3 (ipykernel)",
      "language": "python",
      "name": "python3"
    },
    "language_info": {
      "codemirror_mode": {
        "name": "ipython",
        "version": 3
      },
      "file_extension": ".py",
      "mimetype": "text/x-python",
      "name": "python",
      "nbconvert_exporter": "python",
      "pygments_lexer": "ipython3",
      "version": "3.11.4"
    },
    "toc": {
      "base_numbering": 1,
      "nav_menu": {},
      "number_sections": true,
      "sideBar": true,
      "skip_h1_title": false,
      "title_cell": "Table of Contents",
      "title_sidebar": "Contents",
      "toc_cell": true,
      "toc_position": {},
      "toc_section_display": true,
      "toc_window_display": false
    }
  },
  "nbformat": 4,
  "nbformat_minor": 0
}