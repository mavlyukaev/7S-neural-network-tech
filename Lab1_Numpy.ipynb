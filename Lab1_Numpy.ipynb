{
 "cells": [
  {
   "cell_type": "markdown",
   "id": "08f8ad3e-1173-4f78-af27-7bcd294e0dea",
   "metadata": {},
   "source": [
    "# Задание 1 "
   ]
  },
  {
   "cell_type": "markdown",
   "id": "2d88388f",
   "metadata": {},
   "source": [
    "Задайте матрицу А=$\\left( \\begin{matrix}\n",
    "   3.25 & -1.07 & 2.34  \\\\\n",
    "   10.1 & 0.25 & -4.78  \\\\\n",
    "   5.04 & -7.79 & 3.31  \\\\\n",
    "\\end{matrix} \\right)$\n"
   ]
  },
  {
   "cell_type": "code",
   "execution_count": 24,
   "id": "540d337c-81dc-4552-86b6-423bb9ddf1d0",
   "metadata": {},
   "outputs": [
    {
     "name": "stdout",
     "output_type": "stream",
     "text": [
      "[[ 3.25 -1.07  2.34]\n",
      " [10.1   0.25 -4.78]\n",
      " [ 5.04 -7.79  3.31]]\n"
     ]
    }
   ],
   "source": [
    "import numpy as np\n",
    "A = np.array([[3.25,-1.07,2.34],[10.1,0.25,-4.78],[5.04,-7.79,3.31]])\n",
    "\n",
    "print(A)"
   ]
  },
  {
   "cell_type": "markdown",
   "id": "fb87a5c1",
   "metadata": {},
   "source": [
    "# Задание 2"
   ]
  },
  {
   "cell_type": "markdown",
   "id": "f0c0f7e8",
   "metadata": {},
   "source": [
    "Найти матрицу, обратную к A."
   ]
  },
  {
   "cell_type": "code",
   "execution_count": 7,
   "id": "312cf59f-53b9-4ff6-bb8d-1f516a1d26af",
   "metadata": {},
   "outputs": [
    {
     "name": "stdout",
     "output_type": "stream",
     "text": [
      "[[ 0.14931587  0.0602325  -0.01857636]\n",
      " [ 0.23590453  0.00424915 -0.16063614]\n",
      " [ 0.32783815 -0.08171327 -0.04765278]]\n"
     ]
    }
   ],
   "source": [
    "A_inv=np.linalg.inv(A)\n",
    "\n",
    "print(A_inv)"
   ]
  },
  {
   "cell_type": "markdown",
   "id": "34c36901",
   "metadata": {},
   "source": [
    "# Задание 3 "
   ]
  },
  {
   "cell_type": "markdown",
   "id": "03b613b5",
   "metadata": {},
   "source": [
    "Сгенерируйте матрицу В размером 3х3 со случайными элементами, равномерно распределенными на интервале от 0 до 1."
   ]
  },
  {
   "cell_type": "code",
   "execution_count": 6,
   "id": "ebdc3315-75d1-4f66-9064-eceee5db1a5e",
   "metadata": {},
   "outputs": [
    {
     "name": "stdout",
     "output_type": "stream",
     "text": [
      "[[0.65617681 0.90511505 0.51679386]\n",
      " [0.61676053 0.60173816 0.51123973]\n",
      " [0.49333024 0.06068646 0.14690739]]\n"
     ]
    }
   ],
   "source": [
    "B=np.random.rand(3,3)\n",
    "\n",
    "print(B)"
   ]
  },
  {
   "cell_type": "markdown",
   "id": "51fcaa63",
   "metadata": {},
   "source": [
    "# Задание 4"
   ]
  },
  {
   "cell_type": "markdown",
   "id": "6e0c8e6d",
   "metadata": {},
   "source": [
    "Выполните действия: $A+10\\cdot B$, $A\\cdot B$, ${{B}^{T}}$. "
   ]
  },
  {
   "cell_type": "code",
   "execution_count": 9,
   "id": "8168459b-3a08-450f-94fc-869a2cff6427",
   "metadata": {},
   "outputs": [
    {
     "name": "stdout",
     "output_type": "stream",
     "text": [
      "[[ 9.81176807  7.98115049  7.50793856]\n",
      " [16.2676053   6.2673816   0.3323973 ]\n",
      " [ 9.97330239 -7.18313537  4.77907386]]\n",
      "[[ 2.62703362  2.4397704   1.4763168 ]\n",
      " [ 4.42345735  9.00201525  4.64521057]\n",
      " [ 0.13548967  0.07511177 -0.89165302]]\n",
      "[[0.65617681 0.61676053 0.49333024]\n",
      " [0.90511505 0.60173816 0.06068646]\n",
      " [0.51679386 0.51123973 0.14690739]]\n"
     ]
    }
   ],
   "source": [
    "result_1=A+10*B\n",
    "result_2=np.dot(A,B)\n",
    "result_3=B.T\n",
    "\n",
    "print(result_1)\n",
    "print(result_2)\n",
    "print(result_3)"
   ]
  },
  {
   "cell_type": "markdown",
   "id": "9286b10e",
   "metadata": {},
   "source": [
    "# Задание 5"
   ]
  },
  {
   "cell_type": "markdown",
   "id": "0446eabd",
   "metadata": {},
   "source": [
    "Расположите элементы  матрицы А по возрастанию (по столбцам), определите максимальный и минимальный элементы  матрицы В, вычислите определитель матрицы В."
   ]
  },
  {
   "cell_type": "code",
   "execution_count": 10,
   "id": "f37db7e9-21a6-4687-881f-391af8b1dd9d",
   "metadata": {},
   "outputs": [
    {
     "name": "stdout",
     "output_type": "stream",
     "text": [
      "[[ 3.25 -7.79 -4.78]\n",
      " [ 5.04 -1.07  2.34]\n",
      " [10.1   0.25  3.31]]\n",
      "0.9051150494078599\n",
      "0.060686462920323314\n",
      "0.049847317986709536\n"
     ]
    }
   ],
   "source": [
    "A_sorted=np.sort(A,axis=0)\n",
    "max_B=np.max(B)\n",
    "min_B=np.min(B)\n",
    "det_B=np.linalg.det(B)\n",
    "\n",
    "print(A_sorted)\n",
    "print(max_B)\n",
    "print(min_B)\n",
    "print(det_B)"
   ]
  },
  {
   "cell_type": "markdown",
   "id": "7bffe82f",
   "metadata": {},
   "source": [
    "# Задание 6"
   ]
  },
  {
   "cell_type": "markdown",
   "id": "f1d64f1c",
   "metadata": {},
   "source": [
    "Найти:$D=\\sin (A)+{{B}^{3/5}}$"
   ]
  },
  {
   "cell_type": "code",
   "execution_count": 23,
   "id": "ee6beed2-0f5d-4d28-9afd-67278e19544c",
   "metadata": {},
   "outputs": [
    {
     "name": "stdout",
     "output_type": "stream",
     "text": [
      "[[ 0.66843194  0.0647374   1.39142658]\n",
      " [ 0.12321936  0.98470447  1.66632816]\n",
      " [-0.29235448 -0.81180728  0.14878006]]\n"
     ]
    }
   ],
   "source": [
    "D=(np.sin(A))+(B**(3/5))\n",
    "\n",
    "print(D)"
   ]
  },
  {
   "cell_type": "markdown",
   "id": "7fb2cb64",
   "metadata": {},
   "source": [
    "# Задание 7"
   ]
  },
  {
   "cell_type": "markdown",
   "id": "589e82f8",
   "metadata": {},
   "source": [
    "Задать массив С, используя операцию индексации и функцию ones:\n",
    "$\\left( \\begin{matrix}\n",
    "   1  \\\\\n",
    "   2.94  \\\\\n",
    "   -2.2  \\\\\n",
    "   0.1   \\\\   \n",
    "\\end{matrix} \\right)$"
   ]
  },
  {
   "cell_type": "code",
   "execution_count": 28,
   "id": "dce83208-3b0a-40fc-84c5-c575881143a1",
   "metadata": {},
   "outputs": [
    {
     "name": "stdout",
     "output_type": "stream",
     "text": [
      "[[ 1.  ]\n",
      " [ 2.94]\n",
      " [-2.2 ]\n",
      " [ 0.1 ]]\n"
     ]
    }
   ],
   "source": [
    "C=np.ones((4,1))\n",
    "C[1]=2.94\n",
    "C[2]=-2.2\n",
    "C[3]=0.1\n",
    "\n",
    "print(C)"
   ]
  },
  {
   "cell_type": "markdown",
   "id": "4e322068",
   "metadata": {},
   "source": [
    "# Задание 8"
   ]
  },
  {
   "cell_type": "markdown",
   "id": "bcaa4bf8",
   "metadata": {},
   "source": [
    "Для двух векторов:\n",
    "С и b= {0.6; 3.2; -1.8, 0.05} найти меру косинусного сходства.\n"
   ]
  },
  {
   "cell_type": "code",
   "execution_count": 29,
   "id": "66505ac5-35f4-4d76-bc4f-f71aeb00e8bc",
   "metadata": {},
   "outputs": [
    {
     "name": "stdout",
     "output_type": "stream",
     "text": [
      "[0.98649357]\n"
     ]
    }
   ],
   "source": [
    "b=np.array([0.6, 3.2, -1.8, 0.05])\n",
    "cosin_sim=np.dot(b, C) / (np.linalg.norm(b)*np.linalg.norm(C))\n",
    "\n",
    "print(cosin_sim)"
   ]
  },
  {
   "cell_type": "code",
   "execution_count": null,
   "id": "2e430c6d-2040-4ee8-b669-a97f7727c71e",
   "metadata": {},
   "outputs": [],
   "source": []
  }
 ],
 "metadata": {
  "kernelspec": {
   "display_name": "Python 3 (ipykernel)",
   "language": "python",
   "name": "python3"
  },
  "language_info": {
   "codemirror_mode": {
    "name": "ipython",
    "version": 3
   },
   "file_extension": ".py",
   "mimetype": "text/x-python",
   "name": "python",
   "nbconvert_exporter": "python",
   "pygments_lexer": "ipython3",
   "version": "3.11.7"
  }
 },
 "nbformat": 4,
 "nbformat_minor": 5
}
